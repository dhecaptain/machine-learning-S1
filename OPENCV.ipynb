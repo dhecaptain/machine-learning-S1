{
 "cells": [
  {
   "cell_type": "code",
   "execution_count": 1,
   "id": "22447d1c",
   "metadata": {},
   "outputs": [],
   "source": [
    "import cv2 as cv"
   ]
  },
  {
   "cell_type": "code",
   "execution_count": 2,
   "id": "88464583",
   "metadata": {},
   "outputs": [
    {
     "ename": "error",
     "evalue": "OpenCV(4.9.0) D:\\a\\opencv-python\\opencv-python\\opencv\\modules\\highgui\\src\\window.cpp:971: error: (-215:Assertion failed) size.width>0 && size.height>0 in function 'cv::imshow'\n",
     "output_type": "error",
     "traceback": [
      "\u001b[1;31m---------------------------------------------------------------------------\u001b[0m",
      "\u001b[1;31merror\u001b[0m                                     Traceback (most recent call last)",
      "Cell \u001b[1;32mIn[2], line 3\u001b[0m\n\u001b[0;32m      1\u001b[0m path \u001b[38;5;241m=\u001b[39m \u001b[38;5;124mr\u001b[39m\u001b[38;5;124m\"\u001b[39m\u001b[38;5;124mC:\u001b[39m\u001b[38;5;124m\\\u001b[39m\u001b[38;5;124mUsers\u001b[39m\u001b[38;5;124m\\\u001b[39m\u001b[38;5;124mHP\u001b[39m\u001b[38;5;124m\\\u001b[39m\u001b[38;5;124mDownloads\u001b[39m\u001b[38;5;124m\\\u001b[39m\u001b[38;5;124mlas vegas.jpg\u001b[39m\u001b[38;5;124m\"\u001b[39m\n\u001b[0;32m      2\u001b[0m img \u001b[38;5;241m=\u001b[39m cv\u001b[38;5;241m.\u001b[39mimread(path)\n\u001b[1;32m----> 3\u001b[0m \u001b[43mcv\u001b[49m\u001b[38;5;241;43m.\u001b[39;49m\u001b[43mimshow\u001b[49m\u001b[43m(\u001b[49m\u001b[38;5;124;43m'\u001b[39;49m\u001b[38;5;124;43mCat\u001b[39;49m\u001b[38;5;124;43m'\u001b[39;49m\u001b[43m,\u001b[49m\u001b[43mimg\u001b[49m\u001b[43m)\u001b[49m\n\u001b[0;32m      4\u001b[0m cv\u001b[38;5;241m.\u001b[39mwaitKey(\u001b[38;5;241m0\u001b[39m)\n",
      "\u001b[1;31merror\u001b[0m: OpenCV(4.9.0) D:\\a\\opencv-python\\opencv-python\\opencv\\modules\\highgui\\src\\window.cpp:971: error: (-215:Assertion failed) size.width>0 && size.height>0 in function 'cv::imshow'\n"
     ]
    }
   ],
   "source": [
    "path = r\"C:\\Users\\HP\\Downloads\\las vegas.jpg\"\n",
    "img = cv.imread(path)\n",
    "cv.imshow('Cat',img)\n",
    "cv.waitKey(0)"
   ]
  },
  {
   "cell_type": "code",
   "execution_count": 3,
   "id": "4df38aa7",
   "metadata": {},
   "outputs": [
    {
     "ename": "error",
     "evalue": "OpenCV(4.9.0) D:\\a\\opencv-python\\opencv-python\\opencv\\modules\\objdetect\\src\\cascadedetect.cpp:1689: error: (-215:Assertion failed) !empty() in function 'cv::CascadeClassifier::detectMultiScale'\n",
     "output_type": "error",
     "traceback": [
      "\u001b[1;31m---------------------------------------------------------------------------\u001b[0m",
      "\u001b[1;31merror\u001b[0m                                     Traceback (most recent call last)",
      "Cell \u001b[1;32mIn[3], line 19\u001b[0m\n\u001b[0;32m     16\u001b[0m gray \u001b[38;5;241m=\u001b[39m cv2\u001b[38;5;241m.\u001b[39mcvtColor(frame, cv2\u001b[38;5;241m.\u001b[39mCOLOR_BGR2GRAY)\n\u001b[0;32m     18\u001b[0m \u001b[38;5;66;03m# Perform face detection\u001b[39;00m\n\u001b[1;32m---> 19\u001b[0m faces \u001b[38;5;241m=\u001b[39m \u001b[43mface_cascade\u001b[49m\u001b[38;5;241;43m.\u001b[39;49m\u001b[43mdetectMultiScale\u001b[49m\u001b[43m(\u001b[49m\u001b[43mgray\u001b[49m\u001b[43m,\u001b[49m\u001b[43m \u001b[49m\u001b[43mscaleFactor\u001b[49m\u001b[38;5;241;43m=\u001b[39;49m\u001b[38;5;241;43m1.1\u001b[39;49m\u001b[43m,\u001b[49m\u001b[43m \u001b[49m\u001b[43mminNeighbors\u001b[49m\u001b[38;5;241;43m=\u001b[39;49m\u001b[38;5;241;43m5\u001b[39;49m\u001b[43m,\u001b[49m\u001b[43m \u001b[49m\u001b[43mminSize\u001b[49m\u001b[38;5;241;43m=\u001b[39;49m\u001b[43m(\u001b[49m\u001b[38;5;241;43m30\u001b[39;49m\u001b[43m,\u001b[49m\u001b[43m \u001b[49m\u001b[38;5;241;43m30\u001b[39;49m\u001b[43m)\u001b[49m\u001b[43m)\u001b[49m\n\u001b[0;32m     21\u001b[0m \u001b[38;5;66;03m# Draw bounding boxes around detected faces\u001b[39;00m\n\u001b[0;32m     22\u001b[0m \u001b[38;5;28;01mfor\u001b[39;00m (x, y, w, h) \u001b[38;5;129;01min\u001b[39;00m faces:\n",
      "\u001b[1;31merror\u001b[0m: OpenCV(4.9.0) D:\\a\\opencv-python\\opencv-python\\opencv\\modules\\objdetect\\src\\cascadedetect.cpp:1689: error: (-215:Assertion failed) !empty() in function 'cv::CascadeClassifier::detectMultiScale'\n"
     ]
    }
   ],
   "source": [
    "import cv2\n",
    "\n",
    "# Load the Haar Cascade classifier for face detection\n",
    "face_cascade = cv2.CascadeClassifier('data/haarcascade_frontalface_default.xml')\n",
    "\n",
    "# Initialize video capture\n",
    "cap = cv2.VideoCapture(0)  # Use 0 for the default camera\n",
    "\n",
    "while True:\n",
    "    # Capture frame-by-frame\n",
    "    ret, frame = cap.read()\n",
    "    if not ret:\n",
    "        break\n",
    "    \n",
    "    # Convert frame to grayscale\n",
    "    gray = cv2.cvtColor(frame, cv2.COLOR_BGR2GRAY)\n",
    "    \n",
    "    # Perform face detection\n",
    "    faces = face_cascade.detectMultiScale(gray, scaleFactor=1.1, minNeighbors=5, minSize=(30, 30))\n",
    "    \n",
    "    # Draw bounding boxes around detected faces\n",
    "    for (x, y, w, h) in faces:\n",
    "        cv2.rectangle(frame, (x, y), (x + w, y + h), (255, 0, 0), 2)\n",
    "    \n",
    "    # Display the frame\n",
    "    cv2.imshow('Face Detection', frame)\n",
    "    \n",
    "    # Break the loop on 'q' key press\n",
    "    if cv2.waitKey(1) & 0xFF == ord('q'):\n",
    "        break\n",
    "\n",
    "# Release the capture and close windows\n",
    "cap.release()\n",
    "cv2.destroyAllWindows()\n",
    "import os\n",
    "\n",
    "cascade_path = 'data/haarcascade_frontalface_default.xml'\n",
    "if not os.path.exists(cascade_path):\n",
    "    print(f\"File not found: {cascade_path}\")\n"
   ]
  },
  {
   "cell_type": "code",
   "execution_count": 9,
   "id": "91f00cf4",
   "metadata": {},
   "outputs": [
    {
     "name": "stdout",
     "output_type": "stream",
     "text": [
      "Taking picture from camera...\n",
      "Creating artistic sketch...\n",
      "Saving sketch...\n",
      "Image saved as artistic_sketch.jpg\n",
      "Displaying the original image and the sketch...\n"
     ]
    }
   ],
   "source": [
    "import cv2\n",
    "\n",
    "def take_picture():\n",
    "    cap = cv2.VideoCapture(0)\n",
    "    if not cap.isOpened():\n",
    "        print(\"Error: Could not open camera.\")\n",
    "        return None\n",
    "\n",
    "    ret, frame = cap.read()\n",
    "    if not ret:\n",
    "        print(\"Error: Could not read frame.\")\n",
    "        return None\n",
    "\n",
    "    cap.release()\n",
    "    cv2.destroyAllWindows()\n",
    "    return frame\n",
    "\n",
    "def artistic_sketch(image):\n",
    "    # Convert to grayscale\n",
    "    gray_image = cv2.cvtColor(image, cv2.COLOR_BGR2GRAY)\n",
    "\n",
    "    # Invert the grayscale image\n",
    "    inverted_image = cv2.bitwise_not(gray_image)\n",
    "\n",
    "    # Blur the inverted image\n",
    "    blurred_image = cv2.GaussianBlur(inverted_image, (21, 21), sigmaX=0, sigmaY=0)\n",
    "\n",
    "    # Invert the blurred image\n",
    "    inverted_blurred_image = cv2.bitwise_not(blurred_image)\n",
    "\n",
    "    # Create the pencil sketch image\n",
    "    sketch_image = cv2.divide(gray_image, inverted_blurred_image, scale=256.0)\n",
    "\n",
    "    return sketch_image\n",
    "\n",
    "def save_image(image, filename):\n",
    "    cv2.imwrite(filename, image)\n",
    "    print(f\"Image saved as {filename}\")\n",
    "\n",
    "def main():\n",
    "    print(\"Taking picture from camera...\")\n",
    "    image = take_picture()\n",
    "    if image is None:\n",
    "        return\n",
    "\n",
    "    print(\"Creating artistic sketch...\")\n",
    "    sketch = artistic_sketch(image)\n",
    "\n",
    "    print(\"Saving sketch...\")\n",
    "    save_image(sketch, \"artistic_sketch.jpg\")\n",
    "\n",
    "    print(\"Displaying the original image and the sketch...\")\n",
    "    cv2.imshow(\"Original Image\", image)\n",
    "    cv2.imshow(\"Artistic Sketch\", sketch)\n",
    "    cv2.waitKey(0)\n",
    "    cv2.destroyAllWindows()\n",
    "\n",
    "if __name__ == \"__main__\":\n",
    "    main()\n"
   ]
  },
  {
   "cell_type": "code",
   "execution_count": 14,
   "id": "1f689d8f",
   "metadata": {},
   "outputs": [
    {
     "name": "stdout",
     "output_type": "stream",
     "text": [
      "Loading image from C:/Users/HP/Documents/peresian2.jpg...\n",
      "Creating artistic sketch...\n",
      "Saving sketch...\n",
      "Image saved as artistic_sketch3.jpg\n",
      "Displaying the original image and the sketch...\n"
     ]
    }
   ],
   "source": [
    "import cv2\n",
    "\n",
    "def load_image(image_path):\n",
    "    # Load an image from the specified file path\n",
    "    image = cv2.imread(image_path)\n",
    "    if image is None:\n",
    "        print(f\"Error: Could not load image from {image_path}\")\n",
    "        return None\n",
    "    return image\n",
    "\n",
    "def artistic_sketch(image):\n",
    "    # Convert to grayscale\n",
    "    gray_image = cv2.cvtColor(image, cv2.COLOR_BGR2GRAY)\n",
    "\n",
    "    # Invert the grayscale image\n",
    "    inverted_image = cv2.bitwise_not(gray_image)\n",
    "\n",
    "    # Blur the inverted image\n",
    "    blurred_image = cv2.GaussianBlur(inverted_image, (21, 21), sigmaX=0, sigmaY=0)\n",
    "\n",
    "    # Invert the blurred image\n",
    "    inverted_blurred_image = cv2.bitwise_not(blurred_image)\n",
    "\n",
    "    # Create the pencil sketch image\n",
    "    sketch_image = cv2.divide(gray_image, inverted_blurred_image, scale=256.0)\n",
    "\n",
    "    return sketch_image\n",
    "\n",
    "def save_image(image, filename):\n",
    "    cv2.imwrite(filename, image)\n",
    "    print(f\"Image saved as {filename}\")\n",
    "\n",
    "def main():\n",
    "    #\"C:\\Users\\HP\\Documents\\gift1.jpg\"\n",
    "    image_path = \"C:/Users/HP/Documents/peresian2.jpg\"  # Replace with the path to your image file\n",
    "    print(f\"Loading image from {image_path}...\")\n",
    "    image = load_image(image_path)\n",
    "    if image is None:\n",
    "        return\n",
    "\n",
    "    print(\"Creating artistic sketch...\")\n",
    "    sketch = artistic_sketch(image)\n",
    "\n",
    "    print(\"Saving sketch...\")\n",
    "    save_image(sketch, \"artistic_sketch3.jpg\")\n",
    "\n",
    "    print(\"Displaying the original image and the sketch...\")\n",
    "    cv2.imshow(\"Original Image\", image)\n",
    "    cv2.imshow(\"Artistic Sketch\", sketch)\n",
    "    cv2.waitKey(0)\n",
    "    cv2.destroyAllWindows()\n",
    "\n",
    "if __name__ == \"__main__\":\n",
    "    main()\n"
   ]
  },
  {
   "cell_type": "code",
   "execution_count": null,
   "id": "231001c4",
   "metadata": {},
   "outputs": [],
   "source": []
  }
 ],
 "metadata": {
  "kernelspec": {
   "display_name": "Python 3 (ipykernel)",
   "language": "python",
   "name": "python3"
  },
  "language_info": {
   "codemirror_mode": {
    "name": "ipython",
    "version": 3
   },
   "file_extension": ".py",
   "mimetype": "text/x-python",
   "name": "python",
   "nbconvert_exporter": "python",
   "pygments_lexer": "ipython3",
   "version": "3.12.5"
  }
 },
 "nbformat": 4,
 "nbformat_minor": 5
}
