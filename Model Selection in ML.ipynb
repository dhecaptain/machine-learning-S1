{
 "cells": [
  {
   "cell_type": "code",
   "execution_count": 1,
   "id": "e2aafa2f-28bb-48d1-972a-11c175d49780",
   "metadata": {},
   "outputs": [],
   "source": [
    "import pandas as pd\n",
    "import numpy as np\n",
    "from sklearn.model_selection import cross_val_score\n",
    "from sklearn.model_selection import GridSearchCV"
   ]
  },
  {
   "cell_type": "code",
   "execution_count": 2,
   "id": "de877a27-e700-4154-8509-bd3f57a5c5a5",
   "metadata": {},
   "outputs": [],
   "source": [
    "# importing the model\n",
    "from sklearn.linear_model import LogisticRegression\n",
    "from sklearn.svm import SVC\n",
    "from sklearn.neighbors import KNeighborsClassifier\n",
    "from sklearn.ensemble import RandomForestClassifier"
   ]
  },
  {
   "cell_type": "code",
   "execution_count": 3,
   "id": "2706218b-b754-460b-99ad-ae0e5bc2f8cf",
   "metadata": {},
   "outputs": [],
   "source": [
    "# load the diabetes dataset\n",
    "data = pd.read_csv(\"heart.csv\")"
   ]
  },
  {
   "cell_type": "code",
   "execution_count": 4,
   "id": "1fd20378-6936-4de2-8748-0922cbab65e3",
   "metadata": {},
   "outputs": [
    {
     "data": {
      "text/html": [
       "<div>\n",
       "<style scoped>\n",
       "    .dataframe tbody tr th:only-of-type {\n",
       "        vertical-align: middle;\n",
       "    }\n",
       "\n",
       "    .dataframe tbody tr th {\n",
       "        vertical-align: top;\n",
       "    }\n",
       "\n",
       "    .dataframe thead th {\n",
       "        text-align: right;\n",
       "    }\n",
       "</style>\n",
       "<table border=\"1\" class=\"dataframe\">\n",
       "  <thead>\n",
       "    <tr style=\"text-align: right;\">\n",
       "      <th></th>\n",
       "      <th>age</th>\n",
       "      <th>sex</th>\n",
       "      <th>cp</th>\n",
       "      <th>trestbps</th>\n",
       "      <th>chol</th>\n",
       "      <th>fbs</th>\n",
       "      <th>restecg</th>\n",
       "      <th>thalach</th>\n",
       "      <th>exang</th>\n",
       "      <th>oldpeak</th>\n",
       "      <th>slope</th>\n",
       "      <th>ca</th>\n",
       "      <th>thal</th>\n",
       "      <th>target</th>\n",
       "    </tr>\n",
       "  </thead>\n",
       "  <tbody>\n",
       "    <tr>\n",
       "      <th>0</th>\n",
       "      <td>63</td>\n",
       "      <td>1</td>\n",
       "      <td>3</td>\n",
       "      <td>145</td>\n",
       "      <td>233</td>\n",
       "      <td>1</td>\n",
       "      <td>0</td>\n",
       "      <td>150</td>\n",
       "      <td>0</td>\n",
       "      <td>2.3</td>\n",
       "      <td>0</td>\n",
       "      <td>0</td>\n",
       "      <td>1</td>\n",
       "      <td>1</td>\n",
       "    </tr>\n",
       "    <tr>\n",
       "      <th>1</th>\n",
       "      <td>37</td>\n",
       "      <td>1</td>\n",
       "      <td>2</td>\n",
       "      <td>130</td>\n",
       "      <td>250</td>\n",
       "      <td>0</td>\n",
       "      <td>1</td>\n",
       "      <td>187</td>\n",
       "      <td>0</td>\n",
       "      <td>3.5</td>\n",
       "      <td>0</td>\n",
       "      <td>0</td>\n",
       "      <td>2</td>\n",
       "      <td>1</td>\n",
       "    </tr>\n",
       "    <tr>\n",
       "      <th>2</th>\n",
       "      <td>41</td>\n",
       "      <td>0</td>\n",
       "      <td>1</td>\n",
       "      <td>130</td>\n",
       "      <td>204</td>\n",
       "      <td>0</td>\n",
       "      <td>0</td>\n",
       "      <td>172</td>\n",
       "      <td>0</td>\n",
       "      <td>1.4</td>\n",
       "      <td>2</td>\n",
       "      <td>0</td>\n",
       "      <td>2</td>\n",
       "      <td>1</td>\n",
       "    </tr>\n",
       "    <tr>\n",
       "      <th>3</th>\n",
       "      <td>56</td>\n",
       "      <td>1</td>\n",
       "      <td>1</td>\n",
       "      <td>120</td>\n",
       "      <td>236</td>\n",
       "      <td>0</td>\n",
       "      <td>1</td>\n",
       "      <td>178</td>\n",
       "      <td>0</td>\n",
       "      <td>0.8</td>\n",
       "      <td>2</td>\n",
       "      <td>0</td>\n",
       "      <td>2</td>\n",
       "      <td>1</td>\n",
       "    </tr>\n",
       "    <tr>\n",
       "      <th>4</th>\n",
       "      <td>57</td>\n",
       "      <td>0</td>\n",
       "      <td>0</td>\n",
       "      <td>120</td>\n",
       "      <td>354</td>\n",
       "      <td>0</td>\n",
       "      <td>1</td>\n",
       "      <td>163</td>\n",
       "      <td>1</td>\n",
       "      <td>0.6</td>\n",
       "      <td>2</td>\n",
       "      <td>0</td>\n",
       "      <td>2</td>\n",
       "      <td>1</td>\n",
       "    </tr>\n",
       "  </tbody>\n",
       "</table>\n",
       "</div>"
      ],
      "text/plain": [
       "   age  sex  cp  trestbps  chol  fbs  restecg  thalach  exang  oldpeak  slope  \\\n",
       "0   63    1   3       145   233    1        0      150      0      2.3      0   \n",
       "1   37    1   2       130   250    0        1      187      0      3.5      0   \n",
       "2   41    0   1       130   204    0        0      172      0      1.4      2   \n",
       "3   56    1   1       120   236    0        1      178      0      0.8      2   \n",
       "4   57    0   0       120   354    0        1      163      1      0.6      2   \n",
       "\n",
       "   ca  thal  target  \n",
       "0   0     1       1  \n",
       "1   0     2       1  \n",
       "2   0     2       1  \n",
       "3   0     2       1  \n",
       "4   0     2       1  "
      ]
     },
     "execution_count": 4,
     "metadata": {},
     "output_type": "execute_result"
    }
   ],
   "source": [
    "data.head()"
   ]
  },
  {
   "cell_type": "code",
   "execution_count": 5,
   "id": "c2da57b5-bfc1-4f5e-8eff-6396e0410b24",
   "metadata": {},
   "outputs": [
    {
     "data": {
      "text/plain": [
       "(303, 14)"
      ]
     },
     "execution_count": 5,
     "metadata": {},
     "output_type": "execute_result"
    }
   ],
   "source": [
    "data.shape"
   ]
  },
  {
   "cell_type": "code",
   "execution_count": 6,
   "id": "76b390f7-964f-4e1f-a9af-fd25bec37ff5",
   "metadata": {},
   "outputs": [
    {
     "name": "stdout",
     "output_type": "stream",
     "text": [
      "<class 'pandas.core.frame.DataFrame'>\n",
      "RangeIndex: 303 entries, 0 to 302\n",
      "Data columns (total 14 columns):\n",
      " #   Column    Non-Null Count  Dtype  \n",
      "---  ------    --------------  -----  \n",
      " 0   age       303 non-null    int64  \n",
      " 1   sex       303 non-null    int64  \n",
      " 2   cp        303 non-null    int64  \n",
      " 3   trestbps  303 non-null    int64  \n",
      " 4   chol      303 non-null    int64  \n",
      " 5   fbs       303 non-null    int64  \n",
      " 6   restecg   303 non-null    int64  \n",
      " 7   thalach   303 non-null    int64  \n",
      " 8   exang     303 non-null    int64  \n",
      " 9   oldpeak   303 non-null    float64\n",
      " 10  slope     303 non-null    int64  \n",
      " 11  ca        303 non-null    int64  \n",
      " 12  thal      303 non-null    int64  \n",
      " 13  target    303 non-null    int64  \n",
      "dtypes: float64(1), int64(13)\n",
      "memory usage: 33.3 KB\n"
     ]
    }
   ],
   "source": [
    "data.info()"
   ]
  },
  {
   "cell_type": "code",
   "execution_count": 7,
   "id": "c7b7cc96-9fe4-497b-8702-4d5a059764c5",
   "metadata": {},
   "outputs": [],
   "source": [
    "X = data.drop(\"target\",axis=1)\n",
    "y= data[\"target\"]"
   ]
  },
  {
   "cell_type": "code",
   "execution_count": 8,
   "id": "c2f2d6f6-9f04-4d3f-a032-0e858a915b47",
   "metadata": {},
   "outputs": [],
   "source": [
    "X = np.asarray(X)\n",
    "y =np.asarray(y)"
   ]
  },
  {
   "cell_type": "markdown",
   "id": "aad279f4-0b6f-4f2f-a441-8e7893609380",
   "metadata": {},
   "source": [
    "## MODEL SELECTION"
   ]
  },
  {
   "cell_type": "markdown",
   "id": "36379c00-f146-4011-8e76-ca94b940579f",
   "metadata": {},
   "source": [
    "1. Comparing the model with default hyperparameters using cross validation"
   ]
  },
  {
   "cell_type": "code",
   "execution_count": 9,
   "id": "293e92db-ebc7-4c47-8efa-06c843ed0ad7",
   "metadata": {},
   "outputs": [],
   "source": [
    "# list of models \n",
    "models = [LogisticRegression(max_iter=1000),SVC(kernel='linear'),KNeighborsClassifier(),RandomForestClassifier(random_state=0)]"
   ]
  },
  {
   "cell_type": "code",
   "execution_count": 10,
   "id": "4c1c2659-8b48-4c6e-b7f0-4fe70f8b0926",
   "metadata": {},
   "outputs": [],
   "source": [
    "def compare_models_cross_validation():\n",
    "    for model in models:\n",
    "        cv_score= cross_val_score(model,X,y,cv=5)\n",
    "        mean_accuracy = sum(cv_score) / len(cv_score)\n",
    "        mean_accuracy = mean_accuracy *100 \n",
    "        mean_accuracy = round(mean_accuracy,2)\n",
    "\n",
    "        print(f\"cross validaton accuracies for the {model} = {cv_score}\")\n",
    "        print(f\"Accuracy score of the {model} = {mean_accuracy} %\")\n",
    "        print(\"---\"*20)"
   ]
  },
  {
   "cell_type": "code",
   "execution_count": 11,
   "id": "fa6b64aa-fd41-4d10-a718-7656988dd5b7",
   "metadata": {},
   "outputs": [],
   "source": [
    "import warnings\n",
    "warnings.filterwarnings(\"ignore\")"
   ]
  },
  {
   "cell_type": "code",
   "execution_count": 12,
   "id": "5cf4e08c-301e-456f-99c0-d7db3bb357dc",
   "metadata": {},
   "outputs": [
    {
     "name": "stdout",
     "output_type": "stream",
     "text": [
      "cross validaton accuracies for the LogisticRegression(max_iter=1000) = [0.80327869 0.86885246 0.85245902 0.86666667 0.75      ]\n",
      "Accuracy score of the LogisticRegression(max_iter=1000) = 82.83 %\n",
      "------------------------------------------------------------\n",
      "cross validaton accuracies for the SVC(kernel='linear') = [0.81967213 0.8852459  0.80327869 0.86666667 0.76666667]\n",
      "Accuracy score of the SVC(kernel='linear') = 82.83 %\n",
      "------------------------------------------------------------\n",
      "cross validaton accuracies for the KNeighborsClassifier() = [0.60655738 0.6557377  0.57377049 0.73333333 0.65      ]\n",
      "Accuracy score of the KNeighborsClassifier() = 64.39 %\n",
      "------------------------------------------------------------\n",
      "cross validaton accuracies for the RandomForestClassifier(random_state=0) = [0.85245902 0.90163934 0.81967213 0.81666667 0.8       ]\n",
      "Accuracy score of the RandomForestClassifier(random_state=0) = 83.81 %\n",
      "------------------------------------------------------------\n"
     ]
    }
   ],
   "source": [
    "compare_models_cross_validation()"
   ]
  },
  {
   "cell_type": "markdown",
   "id": "6f743e79-55f5-4872-a1aa-cffbb92e76b7",
   "metadata": {},
   "source": [
    "Inference: For the Heart Disease dataset, **Random Forest** Classifier has the\n",
    "Highest accuracy value with default hyperparameter values"
   ]
  },
  {
   "cell_type": "markdown",
   "id": "10c6e7e4-a07f-4371-a904-ad196b14f1fa",
   "metadata": {},
   "source": [
    "2. Comparing the model with different Hyperparameters values using **GridSearchCV**"
   ]
  },
  {
   "cell_type": "code",
   "execution_count": 13,
   "id": "414d238c-c4d6-4330-acc0-8b82256afd1e",
   "metadata": {},
   "outputs": [],
   "source": [
    "# list of models \n",
    "models = [LogisticRegression(max_iter=10000),SVC(),KNeighborsClassifier(),RandomForestClassifier(random_state=0)]"
   ]
  },
  {
   "cell_type": "code",
   "execution_count": 14,
   "id": "48813d6f-f24e-4bd8-a8bf-8f6110569778",
   "metadata": {},
   "outputs": [],
   "source": [
    "# creating a dictionary that contains hyperparameter values for the above mentioned models\n",
    "\n",
    "model_hyperparameters = {\n",
    "    'log_reg_hyperparameters': {\n",
    "        'C': [1,5,10,20],\n",
    "    },\n",
    "    'svc_hyperparameters' : {\n",
    "        'kernel' : ['linear','poly','rbf','sigmoid'],\n",
    "        'C': [1,5,10,20]\n",
    "    },\n",
    "    'KNN_hyperparameters' :{\n",
    "        'n_neighbors':[3,5,10]\n",
    "    },\n",
    "    'random_forest_hyperparameters': {\n",
    "        'n_estimators' : [10,20,50,100]\n",
    "    }\n",
    "}"
   ]
  },
  {
   "cell_type": "code",
   "execution_count": 15,
   "id": "3482f98f-267c-45e9-8068-b600f84b925e",
   "metadata": {},
   "outputs": [
    {
     "data": {
      "text/plain": [
       "['log_reg_hyperparameters',\n",
       " 'svc_hyperparameters',\n",
       " 'KNN_hyperparameters',\n",
       " 'random_forest_hyperparameters']"
      ]
     },
     "execution_count": 15,
     "metadata": {},
     "output_type": "execute_result"
    }
   ],
   "source": [
    "model_keys = list(model_hyperparameters.keys())\n",
    "model_keys"
   ]
  },
  {
   "cell_type": "markdown",
   "id": "2c331f65-f428-4eda-8681-c0301be0cd74",
   "metadata": {},
   "source": [
    "**Applying GridSearchCV**"
   ]
  },
  {
   "cell_type": "code",
   "execution_count": 18,
   "id": "70b728bf-7d2f-4dbf-95b6-1717b7dde3d2",
   "metadata": {},
   "outputs": [],
   "source": [
    "def ModelSelection(list_of_models, hyperparameters_dictionary):\n",
    "    result = []\n",
    "    i = 0\n",
    "    for model in list_of_models:\n",
    "        key = model_keys[i]\n",
    "        params = hyperparameters_dictionary[key]\n",
    "        i += 1\n",
    "        print(model)\n",
    "        print(params)\n",
    "        print(\"----\" * 20)\n",
    "        classifier = GridSearchCV(model, params, cv=5)\n",
    "\n",
    "        # fitting the data to the classifier\n",
    "        classifier.fit(X, y)\n",
    "\n",
    "        result.append({\n",
    "            'model used': model,\n",
    "            'highest_score': classifier.best_score_,\n",
    "            'best hyperparameters': classifier.best_params_\n",
    "        })\n",
    "    result_dataframe = pd.DataFrame(result, columns=['model used', 'highest score', 'best hyperparameters'])\n",
    "    return result_dataframe"
   ]
  },
  {
   "cell_type": "code",
   "execution_count": 19,
   "id": "ea8e0727-13ce-4e49-a457-75a30236817c",
   "metadata": {},
   "outputs": [
    {
     "name": "stdout",
     "output_type": "stream",
     "text": [
      "LogisticRegression(max_iter=10000)\n",
      "{'C': [1, 5, 10, 20]}\n",
      "--------------------------------------------------------------------------------\n",
      "SVC()\n",
      "{'kernel': ['linear', 'poly', 'rbf', 'sigmoid'], 'C': [1, 5, 10, 20]}\n",
      "--------------------------------------------------------------------------------\n",
      "KNeighborsClassifier()\n",
      "{'n_neighbors': [3, 5, 10]}\n",
      "--------------------------------------------------------------------------------\n",
      "RandomForestClassifier(random_state=0)\n",
      "{'n_estimators': [10, 20, 50, 100]}\n",
      "--------------------------------------------------------------------------------\n"
     ]
    },
    {
     "data": {
      "text/html": [
       "<div>\n",
       "<style scoped>\n",
       "    .dataframe tbody tr th:only-of-type {\n",
       "        vertical-align: middle;\n",
       "    }\n",
       "\n",
       "    .dataframe tbody tr th {\n",
       "        vertical-align: top;\n",
       "    }\n",
       "\n",
       "    .dataframe thead th {\n",
       "        text-align: right;\n",
       "    }\n",
       "</style>\n",
       "<table border=\"1\" class=\"dataframe\">\n",
       "  <thead>\n",
       "    <tr style=\"text-align: right;\">\n",
       "      <th></th>\n",
       "      <th>model used</th>\n",
       "      <th>highest score</th>\n",
       "      <th>best hyperparameters</th>\n",
       "    </tr>\n",
       "  </thead>\n",
       "  <tbody>\n",
       "    <tr>\n",
       "      <th>0</th>\n",
       "      <td>LogisticRegression(max_iter=10000)</td>\n",
       "      <td>NaN</td>\n",
       "      <td>{'C': 5}</td>\n",
       "    </tr>\n",
       "    <tr>\n",
       "      <th>1</th>\n",
       "      <td>SVC()</td>\n",
       "      <td>NaN</td>\n",
       "      <td>{'C': 1, 'kernel': 'linear'}</td>\n",
       "    </tr>\n",
       "    <tr>\n",
       "      <th>2</th>\n",
       "      <td>KNeighborsClassifier()</td>\n",
       "      <td>NaN</td>\n",
       "      <td>{'n_neighbors': 5}</td>\n",
       "    </tr>\n",
       "    <tr>\n",
       "      <th>3</th>\n",
       "      <td>RandomForestClassifier(random_state=0)</td>\n",
       "      <td>NaN</td>\n",
       "      <td>{'n_estimators': 100}</td>\n",
       "    </tr>\n",
       "  </tbody>\n",
       "</table>\n",
       "</div>"
      ],
      "text/plain": [
       "                               model used  highest score  \\\n",
       "0      LogisticRegression(max_iter=10000)            NaN   \n",
       "1                                   SVC()            NaN   \n",
       "2                  KNeighborsClassifier()            NaN   \n",
       "3  RandomForestClassifier(random_state=0)            NaN   \n",
       "\n",
       "           best hyperparameters  \n",
       "0                      {'C': 5}  \n",
       "1  {'C': 1, 'kernel': 'linear'}  \n",
       "2            {'n_neighbors': 5}  \n",
       "3         {'n_estimators': 100}  "
      ]
     },
     "execution_count": 19,
     "metadata": {},
     "output_type": "execute_result"
    }
   ],
   "source": [
    "ModelSelection(models,model_hyperparameters)"
   ]
  },
  {
   "cell_type": "code",
   "execution_count": 4,
   "id": "8c29c66f-a6bb-45fd-a5a3-add0ff9b4c3e",
   "metadata": {},
   "outputs": [
    {
     "name": "stdout",
     "output_type": "stream",
     "text": [
      "\n",
      "Best LogisticRegression:\n",
      "Best Score: 0.9148777468276075\n",
      "Best Parameters: {'C': 1}\n",
      "\n",
      "Best SVC:\n",
      "Best Score: 0.9738502011761063\n",
      "Best Parameters: {'C': 5, 'kernel': 'rbf'}\n",
      "\n",
      "Best KNeighborsClassifier:\n",
      "Best Score: 0.966621788919839\n",
      "Best Parameters: {'n_neighbors': 3}\n",
      "\n",
      "Best RandomForestClassifier:\n",
      "Best Score: 0.9371448467966573\n",
      "Best Parameters: {'n_estimators': 100}\n"
     ]
    }
   ],
   "source": [
    "from sklearn.model_selection import GridSearchCV\n",
    "from sklearn.datasets import load_digits\n",
    "data = load_digits()\n",
    "X = data.data\n",
    "y = data.target\n",
    "def optimize_models(models, model_hyperparameters, X, y, cv=5):\n",
    "    best_models = []\n",
    "    \n",
    "    for model in models:\n",
    "        model_name = type(model).__name__\n",
    "        param_key = f\"{model_name.lower()}_hyperparameters\"\n",
    "        \n",
    "        if param_key in model_hyperparameters:\n",
    "            grid_search = GridSearchCV(model, model_hyperparameters[param_key], cv=cv, n_jobs=-1)\n",
    "            grid_search.fit(X, y)\n",
    "            \n",
    "            best_model = grid_search.best_estimator_\n",
    "            best_score = grid_search.best_score_\n",
    "            best_params = grid_search.best_params_\n",
    "            \n",
    "            best_models.append({\n",
    "                'model': best_model,\n",
    "                'name': model_name,\n",
    "                'best_score': best_score,\n",
    "                'best_params': best_params\n",
    "            })\n",
    "        else:\n",
    "            print(f\"No hyperparameters found for {model_name}\")\n",
    "    \n",
    "    return best_models\n",
    "\n",
    "# Usage:\n",
    "models = [LogisticRegression(max_iter=10000), SVC(), KNeighborsClassifier(), RandomForestClassifier(random_state=0)]\n",
    "\n",
    "model_hyperparameters = {\n",
    "    'logisticregression_hyperparameters': {\n",
    "        'C': [1, 5, 10, 20],\n",
    "    },\n",
    "    'svc_hyperparameters': {\n",
    "        'kernel': ['linear', 'poly', 'rbf', 'sigmoid'],\n",
    "        'C': [1, 5, 10, 20]\n",
    "    },\n",
    "    'kneighborsclassifier_hyperparameters': {\n",
    "        'n_neighbors': [3, 5, 10]\n",
    "    },\n",
    "    'randomforestclassifier_hyperparameters': {\n",
    "        'n_estimators': [10, 20, 50, 100]\n",
    "    }\n",
    "}\n",
    "\n",
    "# Assuming X and y are your feature matrix and target vector\n",
    "best_models = optimize_models(models, model_hyperparameters, X, y)\n",
    "\n",
    "# Print results\n",
    "for result in best_models:\n",
    "    print(f\"\\nBest {result['name']}:\")\n",
    "    print(f\"Best Score: {result['best_score']}\")\n",
    "    print(f\"Best Parameters: {result['best_params']}\")\n"
   ]
  },
  {
   "cell_type": "code",
   "execution_count": null,
   "id": "1552746b-552e-465a-86f3-07ac2fc50d23",
   "metadata": {},
   "outputs": [],
   "source": []
  }
 ],
 "metadata": {
  "kernelspec": {
   "display_name": "Python 3 (ipykernel)",
   "language": "python",
   "name": "python3"
  },
  "language_info": {
   "codemirror_mode": {
    "name": "ipython",
    "version": 3
   },
   "file_extension": ".py",
   "mimetype": "text/x-python",
   "name": "python",
   "nbconvert_exporter": "python",
   "pygments_lexer": "ipython3",
   "version": "3.12.5"
  }
 },
 "nbformat": 4,
 "nbformat_minor": 5
}
